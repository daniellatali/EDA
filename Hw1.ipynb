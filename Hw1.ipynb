{
  "nbformat": 4,
  "nbformat_minor": 0,
  "metadata": {
    "colab": {
      "name": "Hw1.ipynb",
      "version": "0.3.2",
      "provenance": [],
      "collapsed_sections": [],
      "include_colab_link": true
    },
    "kernelspec": {
      "name": "python3",
      "display_name": "Python 3"
    }
  },
  "cells": [
    {
      "cell_type": "markdown",
      "metadata": {
        "id": "view-in-github",
        "colab_type": "text"
      },
      "source": [
        "<a href=\"https://colab.research.google.com/github/daniellatali/EDA/blob/master/Hw1.ipynb\" target=\"_parent\"><img src=\"https://colab.research.google.com/assets/colab-badge.svg\" alt=\"Open In Colab\"/></a>"
      ]
    },
    {
      "metadata": {
        "id": "JOa0YDZJ7oXl",
        "colab_type": "code",
        "colab": {}
      },
      "cell_type": "code",
      "source": [
        "import pandas as pd\n",
        "import numpy as np\n",
        "import matplotlib.pyplot as plt\n",
        "%matplotlib inline\n",
        "df = pd.read_csv(\"https://raw.githubusercontent.com/daniellatali/EDA/master/StudentsPerformance.csv\")"
      ],
      "execution_count": 0,
      "outputs": []
    },
    {
      "metadata": {
        "id": "FiUsQxa3702Y",
        "colab_type": "code",
        "colab": {
          "base_uri": "https://localhost:8080/",
          "height": 195
        },
        "outputId": "c19afa7c-163f-4689-d5e8-705be2cd5531"
      },
      "cell_type": "code",
      "source": [
        "df.head(5)"
      ],
      "execution_count": 43,
      "outputs": [
        {
          "output_type": "execute_result",
          "data": {
            "text/html": [
              "<div>\n",
              "<style scoped>\n",
              "    .dataframe tbody tr th:only-of-type {\n",
              "        vertical-align: middle;\n",
              "    }\n",
              "\n",
              "    .dataframe tbody tr th {\n",
              "        vertical-align: top;\n",
              "    }\n",
              "\n",
              "    .dataframe thead th {\n",
              "        text-align: right;\n",
              "    }\n",
              "</style>\n",
              "<table border=\"1\" class=\"dataframe\">\n",
              "  <thead>\n",
              "    <tr style=\"text-align: right;\">\n",
              "      <th></th>\n",
              "      <th>gender</th>\n",
              "      <th>race/ethnicity</th>\n",
              "      <th>parental level of education</th>\n",
              "      <th>lunch</th>\n",
              "      <th>test preparation course</th>\n",
              "      <th>math score</th>\n",
              "      <th>reading score</th>\n",
              "      <th>writing score</th>\n",
              "    </tr>\n",
              "  </thead>\n",
              "  <tbody>\n",
              "    <tr>\n",
              "      <th>0</th>\n",
              "      <td>female</td>\n",
              "      <td>group B</td>\n",
              "      <td>bachelor's degree</td>\n",
              "      <td>standard</td>\n",
              "      <td>none</td>\n",
              "      <td>72</td>\n",
              "      <td>72</td>\n",
              "      <td>74</td>\n",
              "    </tr>\n",
              "    <tr>\n",
              "      <th>1</th>\n",
              "      <td>female</td>\n",
              "      <td>group C</td>\n",
              "      <td>some college</td>\n",
              "      <td>standard</td>\n",
              "      <td>completed</td>\n",
              "      <td>69</td>\n",
              "      <td>90</td>\n",
              "      <td>88</td>\n",
              "    </tr>\n",
              "    <tr>\n",
              "      <th>2</th>\n",
              "      <td>female</td>\n",
              "      <td>group B</td>\n",
              "      <td>master's degree</td>\n",
              "      <td>standard</td>\n",
              "      <td>none</td>\n",
              "      <td>90</td>\n",
              "      <td>95</td>\n",
              "      <td>93</td>\n",
              "    </tr>\n",
              "    <tr>\n",
              "      <th>3</th>\n",
              "      <td>male</td>\n",
              "      <td>group A</td>\n",
              "      <td>associate's degree</td>\n",
              "      <td>free/reduced</td>\n",
              "      <td>none</td>\n",
              "      <td>47</td>\n",
              "      <td>57</td>\n",
              "      <td>44</td>\n",
              "    </tr>\n",
              "    <tr>\n",
              "      <th>4</th>\n",
              "      <td>male</td>\n",
              "      <td>group C</td>\n",
              "      <td>some college</td>\n",
              "      <td>standard</td>\n",
              "      <td>none</td>\n",
              "      <td>76</td>\n",
              "      <td>78</td>\n",
              "      <td>75</td>\n",
              "    </tr>\n",
              "  </tbody>\n",
              "</table>\n",
              "</div>"
            ],
            "text/plain": [
              "   gender race/ethnicity parental level of education         lunch  \\\n",
              "0  female        group B           bachelor's degree      standard   \n",
              "1  female        group C                some college      standard   \n",
              "2  female        group B             master's degree      standard   \n",
              "3    male        group A          associate's degree  free/reduced   \n",
              "4    male        group C                some college      standard   \n",
              "\n",
              "  test preparation course  math score  reading score  writing score  \n",
              "0                    none          72             72             74  \n",
              "1               completed          69             90             88  \n",
              "2                    none          90             95             93  \n",
              "3                    none          47             57             44  \n",
              "4                    none          76             78             75  "
            ]
          },
          "metadata": {
            "tags": []
          },
          "execution_count": 43
        }
      ]
    },
    {
      "metadata": {
        "id": "bWgf1rKv71EE",
        "colab_type": "code",
        "colab": {
          "base_uri": "https://localhost:8080/",
          "height": 958
        },
        "outputId": "3fe90925-24fe-4063-8f89-683daf601f1e"
      },
      "cell_type": "code",
      "source": [
        "import pandas as pd\n",
        "import numpy as np\n",
        "data = pd.read_csv('https://raw.githubusercontent.com/daniellatali/EDA/master/StudentsPerformance.csv')\n",
        "math_score = np.array(data['math score'])\n",
        "print(math_score)"
      ],
      "execution_count": 55,
      "outputs": [
        {
          "output_type": "stream",
          "text": [
            "[ 72  69  90  47  76  71  88  40  64  38  58  40  65  78  50  69  88  18\n",
            "  46  54  66  65  44  69  74  73  69  67  70  62  69  63  56  40  97  81\n",
            "  74  50  75  57  55  58  53  59  50  65  55  66  57  82  53  77  53  88\n",
            "  71  33  82  52  58   0  79  39  62  69  59  67  45  60  61  39  58  63\n",
            "  41  61  49  44  30  80  61  62  47  49  50  72  42  73  76  71  58  73\n",
            "  65  27  71  43  79  78  65  63  58  65  79  68  85  60  98  58  87  66\n",
            "  52  70  77  62  54  51  99  84  75  78  51  55  79  91  88  63  83  87\n",
            "  72  65  82  51  89  53  87  75  74  58  51  70  59  71  76  59  42  57\n",
            "  88  22  88  73  68 100  62  77  59  54  62  70  66  60  61  66  82  75\n",
            "  49  52  81  96  53  58  68  67  72  94  79  63  43  81  46  71  52  97\n",
            "  62  46  50  65  45  65  80  62  48  77  66  76  62  77  69  61  59  55\n",
            "  45  78  67  65  69  57  59  74  82  81  74  58  80  35  42  60  87  84\n",
            "  83  34  66  61  56  87  55  86  52  45  72  57  68  88  76  46  67  92\n",
            "  83  80  63  64  54  84  73  80  56  59  75  85  89  58  65  68  47  71\n",
            "  60  80  54  62  64  78  70  65  64  79  44  99  76  59  63  69  88  71\n",
            "  69  58  47  65  88  83  85  59  65  73  53  45  73  70  37  81  97  67\n",
            "  88  77  76  86  63  65  78  67  46  71  40  90  81  56  67  80  74  69\n",
            "  99  51  53  49  73  66  67  68  59  71  77  83  63  56  67  75  71  43\n",
            "  41  82  61  28  82  41  71  47  62  90  83  61  76  49  24  35  58  61\n",
            "  69  67  79  72  62  77  75  87  52  66  63  46  59  61  63  42  59  80\n",
            "  58  85  52  27  59  49  69  61  44  73  84  45  74  82  59  46  80  85\n",
            "  71  66  80  87  79  38  38  67  64  57  62  73  73  77  76  57  65  48\n",
            "  50  85  74  60  59  53  49  88  54  63  65  82  52  87  70  84  71  63\n",
            "  51  84  71  74  68  57  82  57  47  59  41  62  86  69  65  68  64  61\n",
            "  61  47  73  50  75  75  70  89  67  78  59  73  79  67  69  86  47  81\n",
            "  64 100  65  65  53  37  79  53 100  72  53  54  71  77  75  84  26  72\n",
            "  77  91  83  63  68  59  90  71  76  80  55  76  73  52  68  59  49  70\n",
            "  61  60  64  79  65  64  83  81  54  68  54  59  66  76  74  94  63  95\n",
            "  40  82  68  55  79  86  76  64  62  54  77  76  74  66  66  67  71  91\n",
            "  69  54  53  68  56  36  29  62  68  47  62  79  73  66  51  51  85  97\n",
            "  75  79  81  82  64  78  92  72  62  79  79  87  40  77  53  32  55  61\n",
            "  53  73  74  63  96  63  48  48  92  61  63  68  71  91  53  50  74  40\n",
            "  61  81  48  53  81  77  63  73  69  65  55  44  54  48  58  71  68  74\n",
            "  92  56  30  53  69  65  54  29  76  60  84  75  85  40  61  58  69  58\n",
            "  94  65  82  60  37  88  95  65  35  62  58 100  61 100  69  61  49  44\n",
            "  67  79  66  75  84  71  67  80  86  76  41  74  72  74  70  65  59  64\n",
            "  50  69  51  68  85  65  73  62  77  69  43  90  74  73  55  65  80  50\n",
            "  63  77  73  81  66  52  69  65  69  50  73  70  81  63  67  60  62  29\n",
            "  62  94  85  77  53  93  49  73  66  77  49  79  75  59  57  66  79  57\n",
            "  87  63  59  62  46  66  89  42  93  80  98  81  60  76  73  96  76  91\n",
            "  62  55  74  50  47  81  65  68  73  53  68  55  87  55  53  67  92  53\n",
            "  81  61  80  37  81  59  55  72  69  69  50  87  71  68  79  77  58  84\n",
            "  55  70  52  69  53  48  78  62  60  74  58  76  68  58  52  75  52  62\n",
            "  66  49  66  35  72  94  46  77  76  52  91  32  72  19  68  52  48  60\n",
            "  66  89  42  57  70  70  69  52  67  76  87  82  73  75  64  41  90  59\n",
            "  51  45  54  87  72  94  45  61  60  77  85  78  49  71  48  62  56  65\n",
            "  69  68  61  74  64  77  58  60  73  75  58  66  39  64  23  74  40  90\n",
            "  91  64  59  80  71  61  87  82  62  97  75  65  52  87  53  81  39  71\n",
            "  97  82  59  61  78  49  59  70  82  90  43  80  81  57  59  64  63  71\n",
            "  64  55  51  62  93  54  69  44  86  85  50  88  59  32  36  63  67  65\n",
            "  85  73  34  93  67  88  57  79  67  70  50  69  52  47  46  68 100  44\n",
            "  57  91  69  35  72  54  74  74  64  65  46  48  67  62  61  70  98  70\n",
            "  67  57  85  77  72  78  81  61  58  54  82  49  49  57  94  75  74  58\n",
            "  62  72  84  92  45  75  56  48 100  65  72  62  66  63  68  75  89  78\n",
            "  53  49  54  64  60  62  55  91   8  81  79  78  74  57  40  81  44  67\n",
            "  86  65  55  62  63  88  62  59  68  77]\n"
          ],
          "name": "stdout"
        }
      ]
    },
    {
      "metadata": {
        "id": "2Ckevn5w71Ic",
        "colab_type": "code",
        "colab": {
          "base_uri": "https://localhost:8080/",
          "height": 84
        },
        "outputId": "cc942d80-c39f-4265-9e21-32d04c744068"
      },
      "cell_type": "code",
      "source": [
        "print(\"Mean math score:       \", math_score.mean())\n",
        "print(\"Standard deviation:\", math_score.std())\n",
        "print(\"Minimum math score:    \", math_score.min())\n",
        "print(\"Maximum math score:    \", math_score.max())"
      ],
      "execution_count": 54,
      "outputs": [
        {
          "output_type": "stream",
          "text": [
            "Mean math score:        66.089\n",
            "Standard deviation: 15.155496659628149\n",
            "Minimum math score:     0\n",
            "Maximum math score:     100\n"
          ],
          "name": "stdout"
        }
      ]
    }
  ]
}